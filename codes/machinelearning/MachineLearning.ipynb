{
 "cells": [
  {
   "cell_type": "markdown",
   "metadata": {},
   "source": [
    "# 1. 数据准备模块"
   ]
  },
  {
   "cell_type": "markdown",
   "metadata": {},
   "source": [
    "### 1.1 第三方库"
   ]
  },
  {
   "cell_type": "code",
   "execution_count": 1,
   "metadata": {},
   "outputs": [],
   "source": [
    "import os\n",
    "import numpy as np\n",
    "import pandas as pd\n",
    "from  PIL import Image\n",
    "import matplotlib.pyplot as plt\n",
    "from matplotlib import image\n",
    "import random\n",
    "from sklearn.model_selection import train_test_split\n",
    "from sklearn.model_selection import cross_val_score, KFold\n",
    "from scipy.stats import sem\n",
    "from sklearn import metrics"
   ]
  },
  {
   "cell_type": "markdown",
   "metadata": {},
   "source": [
    "### 1.2 数据导入函数"
   ]
  },
  {
   "cell_type": "code",
   "execution_count": 2,
   "metadata": {},
   "outputs": [],
   "source": [
    "#--------------------#\n",
    "# 返回一个存放图片名的list\n",
    "#--------------------#\n",
    "def get_file_list(path = \"/archive\"):\n",
    "    file_list = []\n",
    "    for dirname,_, filenames in os.walk(path):\n",
    "        for filename in filenames:\n",
    "            file_list.append(os.path.join(dirname, filename))\n",
    "    return file_list\n",
    "\n",
    "#--------------------#\n",
    "# 读取file_list对应的图片，resize后标准化，最后返回 n*256*256*3 的np.array \n",
    "# 这里DSNET数据集的图片本身就是256*256大小\n",
    "#--------------------#\n",
    "def get_imgs(file_list, img_resize=(256,256)):\n",
    "    imgs = []\n",
    "    for fname in file_list:\n",
    "        img = Image.open(fname)\n",
    "        img = img.resize(img_resize)\n",
    "        img = img.convert('L')\n",
    "        imgs.append(np.array(img) / 255)\n",
    "        del img\n",
    "    return np.array(imgs)\n",
    "\n",
    "\n",
    "def get_target(file_list):\n",
    "    # 0: 没有裂缝 1：有裂缝\n",
    "    targets = []\n",
    "    for fname in file_list:  \n",
    "        if (fname.find('Non-cracked') != -1):\n",
    "            targets.append(0)\n",
    "        if (fname.find('Cracked') != -1):\n",
    "            targets.append(1)\n",
    "    return np.array(targets)"
   ]
  },
  {
   "cell_type": "markdown",
   "metadata": {},
   "source": [
    "### 1.3 进一步封装数据导入函数"
   ]
  },
  {
   "cell_type": "code",
   "execution_count": 3,
   "metadata": {},
   "outputs": [],
   "source": [
    "def get_X_y(file_list, channel):\n",
    "    imgs = get_imgs(file_list)\n",
    "    targets = get_target(file_list)\n",
    "    \n",
    "    if channel==\"MachineLearning\":   \n",
    "        # 将图片扁平化\n",
    "        imgs = np.reshape(imgs, (imgs.shape[0], -1))\n",
    "    \n",
    "    # 可以试一下转换成灰度图\n",
    "    \n",
    "    return imgs,targets"
   ]
  },
  {
   "cell_type": "markdown",
   "metadata": {},
   "source": [
    "# 2. 机器学习模块"
   ]
  },
  {
   "cell_type": "markdown",
   "metadata": {},
   "source": [
    "### 2.1 准备用于机器学习的数据"
   ]
  },
  {
   "cell_type": "code",
   "execution_count": 4,
   "metadata": {},
   "outputs": [],
   "source": [
    "file_list = get_file_list(\"D:/Data/Apps/Python/Kaggle_SDNET/archive/all\")\n",
    "file_list = random.choices(file_list, k=len(file_list))\n",
    "train_list = file_list[:int(len(file_list)*0.9)]\n",
    "test_list = file_list[int(len(file_list)*0.1):]"
   ]
  },
  {
   "cell_type": "markdown",
   "metadata": {},
   "source": [
    "### 2.2 定义评估函数"
   ]
  },
  {
   "cell_type": "code",
   "execution_count": 5,
   "metadata": {},
   "outputs": [],
   "source": [
    "def evaluate_cross_validation(clf, X, y, K):\n",
    "    # 创建 K-折交叉验证迭代器对象\n",
    "    cv = KFold(K, shuffle=True, random_state=0)\n",
    "    #cv = KFold(len(y), K, shuffle=True, random_state=0)\n",
    "    # 计算返回分数\n",
    "    scores = cross_val_score(clf, X, y, cv=cv)\n",
    "    print (scores)\n",
    "    print ((\"\\n平均值: {0:.3f} (均标准差:+/-{1:.3f})\").\n",
    "           format(\n",
    "               np.mean(scores), # 均值\n",
    "               sem(scores) )    # 均标准差\n",
    "           )\n",
    "\n",
    "def train_and_evaluate(clf, X_test, y_test, train_score):\n",
    "    \n",
    "    print (\"训练集精度:\")   # 训练集精度\n",
    "    print (train_score)\n",
    "\n",
    "    print (\"\\n测试集精度:\")    # 测试集精度\n",
    "    print (clf.score(X_test, y_test))\n",
    "    \n",
    "    y_pred = clf.predict(X_test)\n",
    "    \n",
    "    print (\"\\n分类识别报告:\")      # 分类识别报告\n",
    "    print (metrics.classification_report(y_test, y_pred))\n",
    "\n",
    "    print (\"\\n混淆矩阵:\")           # 混淆矩阵\n",
    "    print (metrics.confusion_matrix(y_test, y_pred))"
   ]
  },
  {
   "cell_type": "markdown",
   "metadata": {},
   "source": [
    "### 2.3 被动攻击算法"
   ]
  },
  {
   "cell_type": "markdown",
   "metadata": {},
   "source": [
    "##### 2.3.1 模型搭建"
   ]
  },
  {
   "cell_type": "code",
   "execution_count": 6,
   "metadata": {},
   "outputs": [
    {
     "name": "stdout",
     "output_type": "stream",
     "text": [
      "开始训练第 1 / 20 批训练\n",
      "开始训练第 2 / 20 批训练\n",
      "开始训练第 3 / 20 批训练\n",
      "开始训练第 4 / 20 批训练\n",
      "开始训练第 5 / 20 批训练\n",
      "开始训练第 6 / 20 批训练\n",
      "开始训练第 7 / 20 批训练\n",
      "开始训练第 8 / 20 批训练\n",
      "开始训练第 9 / 20 批训练\n",
      "开始训练第 10 / 20 批训练\n",
      "开始训练第 11 / 20 批训练\n",
      "开始训练第 12 / 20 批训练\n",
      "开始训练第 13 / 20 批训练\n",
      "开始训练第 14 / 20 批训练\n",
      "开始训练第 15 / 20 批训练\n",
      "开始训练第 16 / 20 批训练\n",
      "开始训练第 17 / 20 批训练\n",
      "开始训练第 18 / 20 批训练\n",
      "开始训练第 19 / 20 批训练\n",
      "开始训练第 20 / 20 批训练\n"
     ]
    }
   ],
   "source": [
    "from sklearn.linear_model import PassiveAggressiveClassifier\n",
    "clf = PassiveAggressiveClassifier(max_iter=1000, tol=1e-3)\n",
    "\n",
    "epochs = 20\n",
    "train_score = 0\n",
    "batch_size = int(len(train_list) / epochs)\n",
    "\n",
    "print(\"开始训练第 1 / 20 批训练\")\n",
    "X, y= get_X_y(train_list[:batch_size], \"MachineLearning\")\n",
    "clf.partial_fit(X, y, classes=np.unique(y))\n",
    "train_score += clf.score(X, y)\n",
    "\n",
    "for i in range(1,epochs):\n",
    "    print(\"开始训练第 %s / 20 批训练\" % (i+1))\n",
    "    X, y = get_X_y(train_list[i*batch_size+1:(i+1)*batch_size], \"MachineLearning\")\n",
    "    clf.partial_fit(X, y)\n",
    "    train_score += clf.score(X, y)"
   ]
  },
  {
   "cell_type": "markdown",
   "metadata": {},
   "source": [
    "##### 2.3.2 模型评估"
   ]
  },
  {
   "cell_type": "code",
   "execution_count": 7,
   "metadata": {},
   "outputs": [
    {
     "name": "stdout",
     "output_type": "stream",
     "text": [
      "训练集精度:\n",
      "0.7484968480156884\n",
      "\n",
      "测试集精度:\n",
      "0.15\n",
      "\n",
      "分类识别报告:\n",
      "              precision    recall  f1-score   support\n",
      "\n",
      "           0       1.00      0.01      0.02      1719\n",
      "           1       0.14      1.00      0.25       281\n",
      "\n",
      "    accuracy                           0.15      2000\n",
      "   macro avg       0.57      0.51      0.14      2000\n",
      "weighted avg       0.88      0.15      0.05      2000\n",
      "\n",
      "\n",
      "混淆矩阵:\n",
      "[[  19 1700]\n",
      " [   0  281]]\n"
     ]
    }
   ],
   "source": [
    "X_test, y_test = get_X_y(test_list[:2000], \"MachineLearning\")\n",
    "train_and_evaluate(clf, X_test, y_test, train_score / epochs)"
   ]
  },
  {
   "cell_type": "markdown",
   "metadata": {},
   "source": [
    "### 2.4 随机梯度下降法SGD"
   ]
  },
  {
   "cell_type": "code",
   "execution_count": 8,
   "metadata": {},
   "outputs": [
    {
     "name": "stdout",
     "output_type": "stream",
     "text": [
      "开始训练第 1 / 20 批训练\n",
      "开始训练第 2 / 20 批训练\n",
      "开始训练第 3 / 20 批训练\n",
      "开始训练第 4 / 20 批训练\n",
      "开始训练第 5 / 20 批训练\n",
      "开始训练第 6 / 20 批训练\n",
      "开始训练第 7 / 20 批训练\n",
      "开始训练第 8 / 20 批训练\n",
      "开始训练第 9 / 20 批训练\n",
      "开始训练第 10 / 20 批训练\n",
      "开始训练第 11 / 20 批训练\n",
      "开始训练第 12 / 20 批训练\n",
      "开始训练第 13 / 20 批训练\n",
      "开始训练第 14 / 20 批训练\n",
      "开始训练第 15 / 20 批训练\n",
      "开始训练第 16 / 20 批训练\n",
      "开始训练第 17 / 20 批训练\n",
      "开始训练第 18 / 20 批训练\n",
      "开始训练第 19 / 20 批训练\n",
      "开始训练第 20 / 20 批训练\n"
     ]
    }
   ],
   "source": [
    "from sklearn.linear_model import SGDClassifier\n",
    "clf = SGDClassifier(max_iter=1000, tol=1e-3)\n",
    "\n",
    "epochs = 20\n",
    "train_score = 0\n",
    "batch_size = int(len(train_list) / epochs)\n",
    "\n",
    "print(\"开始训练第 1 / 20 批训练\")\n",
    "X, y= get_X_y(train_list[:batch_size], \"MachineLearning\")\n",
    "clf.partial_fit(X, y, classes=np.unique(y))\n",
    "train_score += clf.score(X, y)\n",
    "\n",
    "for i in range(1,epochs):\n",
    "    print(\"开始训练第 %s / 20 批训练\" % (i+1))\n",
    "    X, y = get_X_y(train_list[i*batch_size+1:(i+1)*batch_size], \"MachineLearning\")\n",
    "    clf.partial_fit(X, y)\n",
    "    train_score += clf.score(X, y)"
   ]
  },
  {
   "cell_type": "code",
   "execution_count": 11,
   "metadata": {},
   "outputs": [
    {
     "name": "stdout",
     "output_type": "stream",
     "text": [
      "训练集精度:\n",
      "0.7133402962161741\n",
      "\n",
      "测试集精度:\n",
      "0.857\n",
      "\n",
      "分类识别报告:\n",
      "              precision    recall  f1-score   support\n",
      "\n",
      "           0       0.86      1.00      0.92      1719\n",
      "           1       0.14      0.00      0.01       281\n",
      "\n",
      "    accuracy                           0.86      2000\n",
      "   macro avg       0.50      0.50      0.46      2000\n",
      "weighted avg       0.76      0.86      0.79      2000\n",
      "\n",
      "\n",
      "混淆矩阵:\n",
      "[[1713    6]\n",
      " [ 280    1]]\n"
     ]
    }
   ],
   "source": [
    "X_test, y_test = get_X_y(test_list[:2000], \"MachineLearning\")\n",
    "train_and_evaluate(clf, X_test, y_test, train_score/20)"
   ]
  },
  {
   "cell_type": "code",
   "execution_count": null,
   "metadata": {},
   "outputs": [],
   "source": []
  }
 ],
 "metadata": {
  "kernelspec": {
   "display_name": "Python 3",
   "language": "python",
   "name": "python3"
  },
  "language_info": {
   "codemirror_mode": {
    "name": "ipython",
    "version": 3
   },
   "file_extension": ".py",
   "mimetype": "text/x-python",
   "name": "python",
   "nbconvert_exporter": "python",
   "pygments_lexer": "ipython3",
   "version": "3.8.5"
  }
 },
 "nbformat": 4,
 "nbformat_minor": 4
}
